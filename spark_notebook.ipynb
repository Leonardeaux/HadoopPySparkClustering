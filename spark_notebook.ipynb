{
 "cells": [
  {
   "cell_type": "markdown",
   "metadata": {
    "pycharm": {
     "name": "#%% md\n"
    }
   },
   "source": [
    "Import libraries"
   ]
  },
  {
   "cell_type": "code",
   "execution_count": 8,
   "outputs": [],
   "source": [
    "import numpy as np\n",
    "import pandas as pd\n",
    "from pyspark.sql import Window\n",
    "from pyspark.sql import SparkSession\n",
    "from pyspark.sql.types import StructType, StructField, StringType, IntegerType, FloatType\n",
    "from pyspark.sql.functions import *"
   ],
   "metadata": {
    "collapsed": false,
    "pycharm": {
     "name": "#%%\n"
    }
   }
  },
  {
   "cell_type": "markdown",
   "source": [
    "Create SparkSession"
   ],
   "metadata": {
    "collapsed": false,
    "pycharm": {
     "name": "#%% md\n"
    }
   }
  },
  {
   "cell_type": "code",
   "execution_count": 9,
   "outputs": [],
   "source": [
    "spark = SparkSession \\\n",
    "    .builder \\\n",
    "    .appName(\"Steam\") \\\n",
    "    .getOrCreate()"
   ],
   "metadata": {
    "collapsed": false,
    "pycharm": {
     "name": "#%%\n"
    }
   }
  },
  {
   "cell_type": "markdown",
   "source": [
    "Schema Dataframe"
   ],
   "metadata": {
    "collapsed": false,
    "pycharm": {
     "name": "#%% md\n"
    }
   }
  },
  {
   "cell_type": "code",
   "execution_count": 10,
   "outputs": [],
   "source": [
    "schema = StructType([\n",
    "    StructField(\"appid\", IntegerType(), True),\n",
    "    StructField(\"name\", StringType(), True),\n",
    "    StructField(\"release_date\", StringType(), True),\n",
    "    StructField(\"developer\", IntegerType(), True),\n",
    "    StructField(\"publisher\", StringType(), True),\n",
    "    StructField(\"platforms\", IntegerType(), True),\n",
    "    StructField(\"categories\", StringType(), True),\n",
    "    StructField(\"genres\", IntegerType(), True),\n",
    "    StructField(\"positive_ratings\", IntegerType(), True),\n",
    "    StructField(\"negative_ratings\", IntegerType(), True),\n",
    "    StructField(\"average_playtime\", IntegerType(), True),\n",
    "    StructField(\"median_playtime\", IntegerType(), True),\n",
    "    StructField(\"owners\", StringType(), True),\n",
    "    StructField(\"min_owners\", IntegerType(), True),\n",
    "    StructField(\"max_owners\", IntegerType(), True),\n",
    "    StructField(\"price\", FloatType(), True)\n",
    "])"
   ],
   "metadata": {
    "collapsed": false,
    "pycharm": {
     "name": "#%%\n"
    }
   }
  },
  {
   "cell_type": "markdown",
   "source": [
    "Download DataFrame from Hadoop data source"
   ],
   "metadata": {
    "collapsed": false,
    "pycharm": {
     "name": "#%% md\n"
    }
   }
  },
  {
   "cell_type": "code",
   "execution_count": 11,
   "outputs": [],
   "source": [
    "df = spark.read.csv('hdfs://localhost:9000/esgi/steam/steam2.csv',\n",
    "                    header='true',\n",
    "                    schema=schema,\n",
    "                    sep=\";\")"
   ],
   "metadata": {
    "collapsed": false,
    "pycharm": {
     "name": "#%%\n"
    }
   }
  },
  {
   "cell_type": "code",
   "execution_count": 12,
   "outputs": [],
   "source": [
    "df = df.na.fill(0)"
   ],
   "metadata": {
    "collapsed": false,
    "pycharm": {
     "name": "#%%\n"
    }
   }
  },
  {
   "cell_type": "markdown",
   "source": [
    "Les studios de dév avec le plus de joueurs"
   ],
   "metadata": {
    "collapsed": false,
    "pycharm": {
     "name": "#%% md\n"
    }
   }
  },
  {
   "cell_type": "code",
   "execution_count": 13,
   "outputs": [
    {
     "data": {
      "text/plain": "   developer  sum(max_owners)\n0          0       1913160000\n1        773           100000",
      "text/html": "<div>\n<style scoped>\n    .dataframe tbody tr th:only-of-type {\n        vertical-align: middle;\n    }\n\n    .dataframe tbody tr th {\n        vertical-align: top;\n    }\n\n    .dataframe thead th {\n        text-align: right;\n    }\n</style>\n<table border=\"1\" class=\"dataframe\">\n  <thead>\n    <tr style=\"text-align: right;\">\n      <th></th>\n      <th>developer</th>\n      <th>sum(max_owners)</th>\n    </tr>\n  </thead>\n  <tbody>\n    <tr>\n      <th>0</th>\n      <td>0</td>\n      <td>1913160000</td>\n    </tr>\n    <tr>\n      <th>1</th>\n      <td>773</td>\n      <td>100000</td>\n    </tr>\n  </tbody>\n</table>\n</div>"
     },
     "execution_count": 13,
     "metadata": {},
     "output_type": "execute_result"
    }
   ],
   "source": [
    "dfg = df.groupBy('developer').agg({'max_owners' : 'sum'})\n",
    "dfPandas = dfg.sort(desc('sum(max_owners)'))\n",
    "dfPandas.toPandas().head(10)"
   ],
   "metadata": {
    "collapsed": false,
    "pycharm": {
     "name": "#%%\n"
    }
   }
  },
  {
   "cell_type": "markdown",
   "source": [
    "Les studios avec le moins de joueurs"
   ],
   "metadata": {
    "collapsed": false,
    "pycharm": {
     "name": "#%% md\n"
    }
   }
  },
  {
   "cell_type": "code",
   "execution_count": 14,
   "outputs": [
    {
     "data": {
      "text/plain": "   developer  sum(max_owners)\n0        773           100000\n1          0       1913160000",
      "text/html": "<div>\n<style scoped>\n    .dataframe tbody tr th:only-of-type {\n        vertical-align: middle;\n    }\n\n    .dataframe tbody tr th {\n        vertical-align: top;\n    }\n\n    .dataframe thead th {\n        text-align: right;\n    }\n</style>\n<table border=\"1\" class=\"dataframe\">\n  <thead>\n    <tr style=\"text-align: right;\">\n      <th></th>\n      <th>developer</th>\n      <th>sum(max_owners)</th>\n    </tr>\n  </thead>\n  <tbody>\n    <tr>\n      <th>0</th>\n      <td>773</td>\n      <td>100000</td>\n    </tr>\n    <tr>\n      <th>1</th>\n      <td>0</td>\n      <td>1913160000</td>\n    </tr>\n  </tbody>\n</table>\n</div>"
     },
     "execution_count": 14,
     "metadata": {},
     "output_type": "execute_result"
    }
   ],
   "source": [
    "dfg = df.groupBy('developer').agg({'max_owners' : 'sum'})\n",
    "dfPandas = dfg.sort(asc('sum(max_owners)'))\n",
    "dfPandas.toPandas().head(10)"
   ],
   "metadata": {
    "collapsed": false,
    "pycharm": {
     "name": "#%%\n"
    }
   }
  },
  {
   "cell_type": "markdown",
   "source": [
    "Nombre de jeux par catégories"
   ],
   "metadata": {
    "collapsed": false,
    "pycharm": {
     "name": "#%% md\n"
    }
   }
  },
  {
   "cell_type": "code",
   "execution_count": 15,
   "outputs": [
    {
     "data": {
      "text/plain": "   genres  count(name)\n0       0         1509",
      "text/html": "<div>\n<style scoped>\n    .dataframe tbody tr th:only-of-type {\n        vertical-align: middle;\n    }\n\n    .dataframe tbody tr th {\n        vertical-align: top;\n    }\n\n    .dataframe thead th {\n        text-align: right;\n    }\n</style>\n<table border=\"1\" class=\"dataframe\">\n  <thead>\n    <tr style=\"text-align: right;\">\n      <th></th>\n      <th>genres</th>\n      <th>count(name)</th>\n    </tr>\n  </thead>\n  <tbody>\n    <tr>\n      <th>0</th>\n      <td>0</td>\n      <td>1509</td>\n    </tr>\n  </tbody>\n</table>\n</div>"
     },
     "execution_count": 15,
     "metadata": {},
     "output_type": "execute_result"
    }
   ],
   "source": [
    "dfg = df.groupBy('genres').agg({'name' : 'count'})\n",
    "dfgPandas = dfg.sort(desc('count(name)'))\n",
    "dfgPandas.toPandas().head(10)"
   ],
   "metadata": {
    "collapsed": false,
    "pycharm": {
     "name": "#%%\n"
    }
   }
  },
  {
   "cell_type": "markdown",
   "source": [
    "Prix moyen d'un jeu"
   ],
   "metadata": {
    "collapsed": false,
    "pycharm": {
     "name": "#%% md\n"
    }
   }
  },
  {
   "cell_type": "code",
   "execution_count": 16,
   "outputs": [
    {
     "data": {
      "text/plain": "   avg(price)\n0    7.656401",
      "text/html": "<div>\n<style scoped>\n    .dataframe tbody tr th:only-of-type {\n        vertical-align: middle;\n    }\n\n    .dataframe tbody tr th {\n        vertical-align: top;\n    }\n\n    .dataframe thead th {\n        text-align: right;\n    }\n</style>\n<table border=\"1\" class=\"dataframe\">\n  <thead>\n    <tr style=\"text-align: right;\">\n      <th></th>\n      <th>avg(price)</th>\n    </tr>\n  </thead>\n  <tbody>\n    <tr>\n      <th>0</th>\n      <td>7.656401</td>\n    </tr>\n  </tbody>\n</table>\n</div>"
     },
     "execution_count": 16,
     "metadata": {},
     "output_type": "execute_result"
    }
   ],
   "source": [
    "df.agg({'price' : 'mean'}).toPandas()"
   ],
   "metadata": {
    "collapsed": false,
    "pycharm": {
     "name": "#%%\n"
    }
   }
  },
  {
   "cell_type": "markdown",
   "source": [
    "Les 10 jeux avec plus d'avis positif par catégories"
   ],
   "metadata": {
    "collapsed": false,
    "pycharm": {
     "name": "#%% md\n"
    }
   }
  },
  {
   "cell_type": "code",
   "execution_count": 17,
   "outputs": [
    {
     "data": {
      "text/plain": "   genres                              name  max(positive_ratings)\n0       0  Counter-Strike: Global Offensive                2644404\n1       0                            Dota 2                 863507\n2       0                   Team Fortress 2                 515879\n3       0                       Garry's Mod                 363721\n4       0                          PAYDAY 2                 308657\n5       0                          Terraria                 255600\n6       0                     Left 4 Dead 2                 251789\n7       0       The Elder Scrolls V: Skyrim                 237303\n8       0                     Borderlands 2                 144595\n9       0                          Portal 2                 138220",
      "text/html": "<div>\n<style scoped>\n    .dataframe tbody tr th:only-of-type {\n        vertical-align: middle;\n    }\n\n    .dataframe tbody tr th {\n        vertical-align: top;\n    }\n\n    .dataframe thead th {\n        text-align: right;\n    }\n</style>\n<table border=\"1\" class=\"dataframe\">\n  <thead>\n    <tr style=\"text-align: right;\">\n      <th></th>\n      <th>genres</th>\n      <th>name</th>\n      <th>max(positive_ratings)</th>\n    </tr>\n  </thead>\n  <tbody>\n    <tr>\n      <th>0</th>\n      <td>0</td>\n      <td>Counter-Strike: Global Offensive</td>\n      <td>2644404</td>\n    </tr>\n    <tr>\n      <th>1</th>\n      <td>0</td>\n      <td>Dota 2</td>\n      <td>863507</td>\n    </tr>\n    <tr>\n      <th>2</th>\n      <td>0</td>\n      <td>Team Fortress 2</td>\n      <td>515879</td>\n    </tr>\n    <tr>\n      <th>3</th>\n      <td>0</td>\n      <td>Garry's Mod</td>\n      <td>363721</td>\n    </tr>\n    <tr>\n      <th>4</th>\n      <td>0</td>\n      <td>PAYDAY 2</td>\n      <td>308657</td>\n    </tr>\n    <tr>\n      <th>5</th>\n      <td>0</td>\n      <td>Terraria</td>\n      <td>255600</td>\n    </tr>\n    <tr>\n      <th>6</th>\n      <td>0</td>\n      <td>Left 4 Dead 2</td>\n      <td>251789</td>\n    </tr>\n    <tr>\n      <th>7</th>\n      <td>0</td>\n      <td>The Elder Scrolls V: Skyrim</td>\n      <td>237303</td>\n    </tr>\n    <tr>\n      <th>8</th>\n      <td>0</td>\n      <td>Borderlands 2</td>\n      <td>144595</td>\n    </tr>\n    <tr>\n      <th>9</th>\n      <td>0</td>\n      <td>Portal 2</td>\n      <td>138220</td>\n    </tr>\n  </tbody>\n</table>\n</div>"
     },
     "execution_count": 17,
     "metadata": {},
     "output_type": "execute_result"
    }
   ],
   "source": [
    "dtg = df.groupBy('genres', 'name').agg({'positive_ratings' : 'max'})\n",
    "dtgPandasDesc = dtg.sort(desc('max(positive_ratings)'))\n",
    "dtgPandasDesc.toPandas().head(10)"
   ],
   "metadata": {
    "collapsed": false,
    "pycharm": {
     "name": "#%%\n"
    }
   }
  },
  {
   "cell_type": "markdown",
   "source": [
    "Les 10 jeux avec plus d'avis négatif par catégories"
   ],
   "metadata": {
    "collapsed": false,
    "pycharm": {
     "name": "#%% md\n"
    }
   }
  },
  {
   "cell_type": "code",
   "execution_count": 18,
   "outputs": [
    {
     "data": {
      "text/plain": "   genres                                   name  max(negative_ratings)\n0       0       Counter-Strike: Global Offensive                 402313\n1       0                                 Dota 2                 142079\n2       0                                   DayZ                  77169\n3       0                               PAYDAY 2                  56523\n4       0                        Team Fortress 2                  34036\n5       0                    Grand Theft Auto IV                  18926\n6       0                            Garry's Mod                  16433\n7       0            The Elder Scrolls V: Skyrim                  14951\n8       0  Total War™: ROME II - Emperor Edition                  13423\n9       0                 Batman™: Arkham Knight                  12981",
      "text/html": "<div>\n<style scoped>\n    .dataframe tbody tr th:only-of-type {\n        vertical-align: middle;\n    }\n\n    .dataframe tbody tr th {\n        vertical-align: top;\n    }\n\n    .dataframe thead th {\n        text-align: right;\n    }\n</style>\n<table border=\"1\" class=\"dataframe\">\n  <thead>\n    <tr style=\"text-align: right;\">\n      <th></th>\n      <th>genres</th>\n      <th>name</th>\n      <th>max(negative_ratings)</th>\n    </tr>\n  </thead>\n  <tbody>\n    <tr>\n      <th>0</th>\n      <td>0</td>\n      <td>Counter-Strike: Global Offensive</td>\n      <td>402313</td>\n    </tr>\n    <tr>\n      <th>1</th>\n      <td>0</td>\n      <td>Dota 2</td>\n      <td>142079</td>\n    </tr>\n    <tr>\n      <th>2</th>\n      <td>0</td>\n      <td>DayZ</td>\n      <td>77169</td>\n    </tr>\n    <tr>\n      <th>3</th>\n      <td>0</td>\n      <td>PAYDAY 2</td>\n      <td>56523</td>\n    </tr>\n    <tr>\n      <th>4</th>\n      <td>0</td>\n      <td>Team Fortress 2</td>\n      <td>34036</td>\n    </tr>\n    <tr>\n      <th>5</th>\n      <td>0</td>\n      <td>Grand Theft Auto IV</td>\n      <td>18926</td>\n    </tr>\n    <tr>\n      <th>6</th>\n      <td>0</td>\n      <td>Garry's Mod</td>\n      <td>16433</td>\n    </tr>\n    <tr>\n      <th>7</th>\n      <td>0</td>\n      <td>The Elder Scrolls V: Skyrim</td>\n      <td>14951</td>\n    </tr>\n    <tr>\n      <th>8</th>\n      <td>0</td>\n      <td>Total War™: ROME II - Emperor Edition</td>\n      <td>13423</td>\n    </tr>\n    <tr>\n      <th>9</th>\n      <td>0</td>\n      <td>Batman™: Arkham Knight</td>\n      <td>12981</td>\n    </tr>\n  </tbody>\n</table>\n</div>"
     },
     "execution_count": 18,
     "metadata": {},
     "output_type": "execute_result"
    }
   ],
   "source": [
    "dtg = df.groupBy('genres', 'name').agg({'negative_ratings' : 'max'})\n",
    "dtgPandasDesc = dtg.sort(desc('max(negative_ratings)'))\n",
    "dtgPandasDesc.toPandas().head(10)"
   ],
   "metadata": {
    "collapsed": false,
    "pycharm": {
     "name": "#%%\n"
    }
   }
  },
  {
   "cell_type": "markdown",
   "source": [
    "Moyenne des temps de jeux par genre"
   ],
   "metadata": {
    "collapsed": false,
    "pycharm": {
     "name": "#%% md\n"
    }
   }
  },
  {
   "cell_type": "code",
   "execution_count": 19,
   "outputs": [
    {
     "data": {
      "text/plain": "   genres  avg(median_playtime)\n0       0            390.526839",
      "text/html": "<div>\n<style scoped>\n    .dataframe tbody tr th:only-of-type {\n        vertical-align: middle;\n    }\n\n    .dataframe tbody tr th {\n        vertical-align: top;\n    }\n\n    .dataframe thead th {\n        text-align: right;\n    }\n</style>\n<table border=\"1\" class=\"dataframe\">\n  <thead>\n    <tr style=\"text-align: right;\">\n      <th></th>\n      <th>genres</th>\n      <th>avg(median_playtime)</th>\n    </tr>\n  </thead>\n  <tbody>\n    <tr>\n      <th>0</th>\n      <td>0</td>\n      <td>390.526839</td>\n    </tr>\n  </tbody>\n</table>\n</div>"
     },
     "execution_count": 19,
     "metadata": {},
     "output_type": "execute_result"
    }
   ],
   "source": [
    "dfg = df.groupBy('genres').agg({'median_playtime' : 'avg'})\n",
    "dfgPanda = dfg.sort(desc('avg(median_playtime)'))\n",
    "dfgPanda.toPandas().head(10)"
   ],
   "metadata": {
    "collapsed": false,
    "pycharm": {
     "name": "#%%\n"
    }
   }
  },
  {
   "cell_type": "markdown",
   "source": [
    "Les 10 jeux les plus couteux"
   ],
   "metadata": {
    "collapsed": false,
    "pycharm": {
     "name": "#%% md\n"
    }
   }
  },
  {
   "cell_type": "code",
   "execution_count": 20,
   "outputs": [
    {
     "data": {
      "text/plain": "                                             name  max(price)\n0                                      3DCoat 4.8   95.989998\n1                                RPG Maker VX Ace   52.990002\n2                     Call of Duty®: Black Ops II   39.990002\n3                           Call of Duty®: Ghosts   39.990002\n4  Call of Duty®: Advanced Warfare - Gold Edition   39.990002\n5                                        F.E.A.R.   35.959999\n6                            Train Simulator 2019   34.990002\n7                            Ironclads: High Seas   34.950001\n8             Ironclads: Chincha Islands War 1866   34.950001\n9                   Ironclads: American Civil War   34.950001",
      "text/html": "<div>\n<style scoped>\n    .dataframe tbody tr th:only-of-type {\n        vertical-align: middle;\n    }\n\n    .dataframe tbody tr th {\n        vertical-align: top;\n    }\n\n    .dataframe thead th {\n        text-align: right;\n    }\n</style>\n<table border=\"1\" class=\"dataframe\">\n  <thead>\n    <tr style=\"text-align: right;\">\n      <th></th>\n      <th>name</th>\n      <th>max(price)</th>\n    </tr>\n  </thead>\n  <tbody>\n    <tr>\n      <th>0</th>\n      <td>3DCoat 4.8</td>\n      <td>95.989998</td>\n    </tr>\n    <tr>\n      <th>1</th>\n      <td>RPG Maker VX Ace</td>\n      <td>52.990002</td>\n    </tr>\n    <tr>\n      <th>2</th>\n      <td>Call of Duty®: Black Ops II</td>\n      <td>39.990002</td>\n    </tr>\n    <tr>\n      <th>3</th>\n      <td>Call of Duty®: Ghosts</td>\n      <td>39.990002</td>\n    </tr>\n    <tr>\n      <th>4</th>\n      <td>Call of Duty®: Advanced Warfare - Gold Edition</td>\n      <td>39.990002</td>\n    </tr>\n    <tr>\n      <th>5</th>\n      <td>F.E.A.R.</td>\n      <td>35.959999</td>\n    </tr>\n    <tr>\n      <th>6</th>\n      <td>Train Simulator 2019</td>\n      <td>34.990002</td>\n    </tr>\n    <tr>\n      <th>7</th>\n      <td>Ironclads: High Seas</td>\n      <td>34.950001</td>\n    </tr>\n    <tr>\n      <th>8</th>\n      <td>Ironclads: Chincha Islands War 1866</td>\n      <td>34.950001</td>\n    </tr>\n    <tr>\n      <th>9</th>\n      <td>Ironclads: American Civil War</td>\n      <td>34.950001</td>\n    </tr>\n  </tbody>\n</table>\n</div>"
     },
     "execution_count": 20,
     "metadata": {},
     "output_type": "execute_result"
    }
   ],
   "source": [
    "dfg = df.groupBy('name').agg({'price' : 'max'})\n",
    "dfgPandas = dfg.sort(desc('max(price)'))\n",
    "dfgPandas.toPandas().head(10)"
   ],
   "metadata": {
    "collapsed": false,
    "pycharm": {
     "name": "#%%\n"
    }
   }
  },
  {
   "cell_type": "markdown",
   "source": [
    "Meilleur ratio des jeux en fonction des avis positifs et négatifs"
   ],
   "metadata": {
    "collapsed": false,
    "pycharm": {
     "name": "#%% md\n"
    }
   }
  },
  {
   "cell_type": "code",
   "execution_count": 21,
   "outputs": [
    {
     "data": {
      "text/plain": "                             name     ratio\n0                  Counter-Strike  0.973888\n1           Team Fortress Classic  0.839787\n2                   Day of Defeat  0.895648\n3              Deathmatch Classic  0.826623\n4       Half-Life: Opposing Force  0.947996\n5                        Ricochet  0.801278\n6                       Half-Life  0.961878\n7  Counter-Strike: Condition Zero  0.893871\n8           Half-Life: Blue Shift  0.900990\n9                     Half-Life 2  0.965601",
      "text/html": "<div>\n<style scoped>\n    .dataframe tbody tr th:only-of-type {\n        vertical-align: middle;\n    }\n\n    .dataframe tbody tr th {\n        vertical-align: top;\n    }\n\n    .dataframe thead th {\n        text-align: right;\n    }\n</style>\n<table border=\"1\" class=\"dataframe\">\n  <thead>\n    <tr style=\"text-align: right;\">\n      <th></th>\n      <th>name</th>\n      <th>ratio</th>\n    </tr>\n  </thead>\n  <tbody>\n    <tr>\n      <th>0</th>\n      <td>Counter-Strike</td>\n      <td>0.973888</td>\n    </tr>\n    <tr>\n      <th>1</th>\n      <td>Team Fortress Classic</td>\n      <td>0.839787</td>\n    </tr>\n    <tr>\n      <th>2</th>\n      <td>Day of Defeat</td>\n      <td>0.895648</td>\n    </tr>\n    <tr>\n      <th>3</th>\n      <td>Deathmatch Classic</td>\n      <td>0.826623</td>\n    </tr>\n    <tr>\n      <th>4</th>\n      <td>Half-Life: Opposing Force</td>\n      <td>0.947996</td>\n    </tr>\n    <tr>\n      <th>5</th>\n      <td>Ricochet</td>\n      <td>0.801278</td>\n    </tr>\n    <tr>\n      <th>6</th>\n      <td>Half-Life</td>\n      <td>0.961878</td>\n    </tr>\n    <tr>\n      <th>7</th>\n      <td>Counter-Strike: Condition Zero</td>\n      <td>0.893871</td>\n    </tr>\n    <tr>\n      <th>8</th>\n      <td>Half-Life: Blue Shift</td>\n      <td>0.900990</td>\n    </tr>\n    <tr>\n      <th>9</th>\n      <td>Half-Life 2</td>\n      <td>0.965601</td>\n    </tr>\n  </tbody>\n</table>\n</div>"
     },
     "execution_count": 21,
     "metadata": {},
     "output_type": "execute_result"
    }
   ],
   "source": [
    "rdf = df.withColumn('ratio', col(\"positive_ratings\") / (col(\"positive_ratings\") + col(\"negative_ratings\")))\n",
    "rdf.select(['name', 'ratio']).toPandas().head(10)"
   ],
   "metadata": {
    "collapsed": false,
    "pycharm": {
     "name": "#%%\n"
    }
   }
  },
  {
   "cell_type": "markdown",
   "source": [
    "Médiane des prix par genres"
   ],
   "metadata": {
    "collapsed": false,
    "pycharm": {
     "name": "#%% md\n"
    }
   }
  },
  {
   "cell_type": "code",
   "execution_count": 22,
   "outputs": [
    {
     "data": {
      "text/plain": "   genres  percentile_approx(price, 0.5, 10000)\n0       0                                  6.99",
      "text/html": "<div>\n<style scoped>\n    .dataframe tbody tr th:only-of-type {\n        vertical-align: middle;\n    }\n\n    .dataframe tbody tr th {\n        vertical-align: top;\n    }\n\n    .dataframe thead th {\n        text-align: right;\n    }\n</style>\n<table border=\"1\" class=\"dataframe\">\n  <thead>\n    <tr style=\"text-align: right;\">\n      <th></th>\n      <th>genres</th>\n      <th>percentile_approx(price, 0.5, 10000)</th>\n    </tr>\n  </thead>\n  <tbody>\n    <tr>\n      <th>0</th>\n      <td>0</td>\n      <td>6.99</td>\n    </tr>\n  </tbody>\n</table>\n</div>"
     },
     "execution_count": 22,
     "metadata": {},
     "output_type": "execute_result"
    }
   ],
   "source": [
    "dfg = df.groupBy('genres').agg(percentile_approx(col('price'), 0.5))\n",
    "dfg.toPandas()"
   ],
   "metadata": {
    "collapsed": false,
    "pycharm": {
     "name": "#%%\n"
    }
   }
  },
  {
   "cell_type": "markdown",
   "source": [
    "Partie Clustering (k-means)"
   ],
   "metadata": {
    "collapsed": false,
    "pycharm": {
     "name": "#%% md\n"
    }
   }
  },
  {
   "cell_type": "code",
   "execution_count": 23,
   "outputs": [
    {
     "data": {
      "text/plain": "   genres  count\n0       0   1509",
      "text/html": "<div>\n<style scoped>\n    .dataframe tbody tr th:only-of-type {\n        vertical-align: middle;\n    }\n\n    .dataframe tbody tr th {\n        vertical-align: top;\n    }\n\n    .dataframe thead th {\n        text-align: right;\n    }\n</style>\n<table border=\"1\" class=\"dataframe\">\n  <thead>\n    <tr style=\"text-align: right;\">\n      <th></th>\n      <th>genres</th>\n      <th>count</th>\n    </tr>\n  </thead>\n  <tbody>\n    <tr>\n      <th>0</th>\n      <td>0</td>\n      <td>1509</td>\n    </tr>\n  </tbody>\n</table>\n</div>"
     },
     "execution_count": 23,
     "metadata": {},
     "output_type": "execute_result"
    }
   ],
   "source": [
    "df.groupBy('genres').count().toPandas()"
   ],
   "metadata": {
    "collapsed": false,
    "pycharm": {
     "name": "#%%\n"
    }
   }
  },
  {
   "cell_type": "code",
   "execution_count": 24,
   "outputs": [],
   "source": [
    "from pyspark.ml.linalg import Vectors\n",
    "from pyspark.ml.feature import VectorAssembler\n",
    "from pyspark.ml.feature import StandardScaler\n",
    "from pyspark.ml.clustering import KMeans\n",
    "from pyspark.ml.evaluation import ClusteringEvaluator\n",
    "import matplotlib.pyplot as plt"
   ],
   "metadata": {
    "collapsed": false,
    "pycharm": {
     "name": "#%%\n"
    }
   }
  },
  {
   "cell_type": "code",
   "execution_count": 25,
   "outputs": [],
   "source": [
    "imput_cols = [\n",
    " 'platforms',\n",
    " 'developer',\n",
    " 'genres',\n",
    " 'median_playtime',\n",
    " 'min_owners',\n",
    " 'max_owners',\n",
    " 'price']\n",
    "\n",
    "vector_assembler = VectorAssembler(inputCols=imput_cols, outputCol=\"features\")\n",
    "\n",
    "final_df = vector_assembler.transform(df)"
   ],
   "metadata": {
    "collapsed": false,
    "pycharm": {
     "name": "#%%\n"
    }
   }
  },
  {
   "cell_type": "markdown",
   "source": [
    "KMeans"
   ],
   "metadata": {
    "collapsed": false,
    "pycharm": {
     "name": "#%% md\n"
    }
   }
  },
  {
   "cell_type": "code",
   "execution_count": 26,
   "outputs": [],
   "source": [
    "kmeans = KMeans(featuresCol='features', k=30)\n",
    "model = kmeans.fit(final_df)"
   ],
   "metadata": {
    "collapsed": false,
    "pycharm": {
     "name": "#%%\n"
    }
   }
  },
  {
   "cell_type": "code",
   "execution_count": 27,
   "outputs": [
    {
     "data": {
      "text/plain": "    prediction  count\n0           28      3\n1           27     17\n2           26      5\n3           12      4\n4           22     38\n5            1      1\n6           13      4\n7            6     37\n8           16      2\n9            3      1\n10          20      4\n11           5     21\n12          19      9\n13          15      3\n14           9    801\n15          17      4\n16           4      3\n17           8     19\n18          23     23\n19           7      3\n20          10     15\n21          25      8\n22          24      3\n23          29     67\n24          21     16\n25          11      6\n26          14      1\n27           2      1\n28           0    287\n29          18    103",
      "text/html": "<div>\n<style scoped>\n    .dataframe tbody tr th:only-of-type {\n        vertical-align: middle;\n    }\n\n    .dataframe tbody tr th {\n        vertical-align: top;\n    }\n\n    .dataframe thead th {\n        text-align: right;\n    }\n</style>\n<table border=\"1\" class=\"dataframe\">\n  <thead>\n    <tr style=\"text-align: right;\">\n      <th></th>\n      <th>prediction</th>\n      <th>count</th>\n    </tr>\n  </thead>\n  <tbody>\n    <tr>\n      <th>0</th>\n      <td>28</td>\n      <td>3</td>\n    </tr>\n    <tr>\n      <th>1</th>\n      <td>27</td>\n      <td>17</td>\n    </tr>\n    <tr>\n      <th>2</th>\n      <td>26</td>\n      <td>5</td>\n    </tr>\n    <tr>\n      <th>3</th>\n      <td>12</td>\n      <td>4</td>\n    </tr>\n    <tr>\n      <th>4</th>\n      <td>22</td>\n      <td>38</td>\n    </tr>\n    <tr>\n      <th>5</th>\n      <td>1</td>\n      <td>1</td>\n    </tr>\n    <tr>\n      <th>6</th>\n      <td>13</td>\n      <td>4</td>\n    </tr>\n    <tr>\n      <th>7</th>\n      <td>6</td>\n      <td>37</td>\n    </tr>\n    <tr>\n      <th>8</th>\n      <td>16</td>\n      <td>2</td>\n    </tr>\n    <tr>\n      <th>9</th>\n      <td>3</td>\n      <td>1</td>\n    </tr>\n    <tr>\n      <th>10</th>\n      <td>20</td>\n      <td>4</td>\n    </tr>\n    <tr>\n      <th>11</th>\n      <td>5</td>\n      <td>21</td>\n    </tr>\n    <tr>\n      <th>12</th>\n      <td>19</td>\n      <td>9</td>\n    </tr>\n    <tr>\n      <th>13</th>\n      <td>15</td>\n      <td>3</td>\n    </tr>\n    <tr>\n      <th>14</th>\n      <td>9</td>\n      <td>801</td>\n    </tr>\n    <tr>\n      <th>15</th>\n      <td>17</td>\n      <td>4</td>\n    </tr>\n    <tr>\n      <th>16</th>\n      <td>4</td>\n      <td>3</td>\n    </tr>\n    <tr>\n      <th>17</th>\n      <td>8</td>\n      <td>19</td>\n    </tr>\n    <tr>\n      <th>18</th>\n      <td>23</td>\n      <td>23</td>\n    </tr>\n    <tr>\n      <th>19</th>\n      <td>7</td>\n      <td>3</td>\n    </tr>\n    <tr>\n      <th>20</th>\n      <td>10</td>\n      <td>15</td>\n    </tr>\n    <tr>\n      <th>21</th>\n      <td>25</td>\n      <td>8</td>\n    </tr>\n    <tr>\n      <th>22</th>\n      <td>24</td>\n      <td>3</td>\n    </tr>\n    <tr>\n      <th>23</th>\n      <td>29</td>\n      <td>67</td>\n    </tr>\n    <tr>\n      <th>24</th>\n      <td>21</td>\n      <td>16</td>\n    </tr>\n    <tr>\n      <th>25</th>\n      <td>11</td>\n      <td>6</td>\n    </tr>\n    <tr>\n      <th>26</th>\n      <td>14</td>\n      <td>1</td>\n    </tr>\n    <tr>\n      <th>27</th>\n      <td>2</td>\n      <td>1</td>\n    </tr>\n    <tr>\n      <th>28</th>\n      <td>0</td>\n      <td>287</td>\n    </tr>\n    <tr>\n      <th>29</th>\n      <td>18</td>\n      <td>103</td>\n    </tr>\n  </tbody>\n</table>\n</div>"
     },
     "execution_count": 27,
     "metadata": {},
     "output_type": "execute_result"
    }
   ],
   "source": [
    "model.transform(final_df).groupBy('prediction').count().toPandas()"
   ],
   "metadata": {
    "collapsed": false,
    "pycharm": {
     "name": "#%%\n"
    }
   }
  },
  {
   "cell_type": "markdown",
   "source": [
    "Prediction c'est le cluster count c'est le nombre de jeux"
   ],
   "metadata": {
    "collapsed": false,
    "pycharm": {
     "name": "#%% md\n"
    }
   }
  },
  {
   "cell_type": "code",
   "execution_count": 28,
   "outputs": [
    {
     "data": {
      "text/plain": "    appid                                            name release_date  \\\n0   12210                             Grand Theft Auto IV   02/12/2008   \n1   24960                     Battlefield: Bad Company™ 2   02/03/2010   \n2  200260  Batman: Arkham City - Game of the Year Edition   07/09/2012   \n3  212680                          FTL: Faster Than Light   14/09/2012   \n4  213670                South Park™: The Stick of Truth™   06/03/2014   \n\n   developer                                          publisher  platforms  \\\n0          0                                     Rockstar Games          0   \n1          0                                    Electronic Arts          0   \n2          0  Warner Bros. Interactive Entertainment;Feral I...          0   \n3          0                                       Subset Games          0   \n4          0                                            Ubisoft          0   \n\n                                          categories  genres  \\\n0  Single-player;Multi-player;Partial Controller ...       0   \n1                         Single-player;Multi-player       0   \n2  Single-player;Steam Achievements;Steam Trading...       0   \n3                  Single-player;Steam Trading Cards       0   \n4  Single-player;Steam Achievements;Full controll...       0   \n\n   positive_ratings  negative_ratings  average_playtime  median_playtime  \\\n0             35240             18926              1255              634   \n1             23093              3877              1200              671   \n2             25995              1255              1554              618   \n3             42641              1629              1111              633   \n4             35896               911              1045              628   \n\n            owners  min_owners  max_owners  price  \\\n0  2000000-5000000     2000000     5000000  19.99   \n1  2000000-5000000     2000000     5000000  14.99   \n2  2000000-5000000     2000000     5000000  14.99   \n3  2000000-5000000     2000000     5000000   6.99   \n4  2000000-5000000     2000000     5000000  25.99   \n\n                                            features  prediction  \n0  [0.0, 0.0, 0.0, 634.0, 2000000.0, 5000000.0, 1...          26  \n1  [0.0, 0.0, 0.0, 671.0, 2000000.0, 5000000.0, 1...          26  \n2  [0.0, 0.0, 0.0, 618.0, 2000000.0, 5000000.0, 1...          26  \n3  [0.0, 0.0, 0.0, 633.0, 2000000.0, 5000000.0, 6...          26  \n4  [0.0, 0.0, 0.0, 628.0, 2000000.0, 5000000.0, 2...          26  ",
      "text/html": "<div>\n<style scoped>\n    .dataframe tbody tr th:only-of-type {\n        vertical-align: middle;\n    }\n\n    .dataframe tbody tr th {\n        vertical-align: top;\n    }\n\n    .dataframe thead th {\n        text-align: right;\n    }\n</style>\n<table border=\"1\" class=\"dataframe\">\n  <thead>\n    <tr style=\"text-align: right;\">\n      <th></th>\n      <th>appid</th>\n      <th>name</th>\n      <th>release_date</th>\n      <th>developer</th>\n      <th>publisher</th>\n      <th>platforms</th>\n      <th>categories</th>\n      <th>genres</th>\n      <th>positive_ratings</th>\n      <th>negative_ratings</th>\n      <th>average_playtime</th>\n      <th>median_playtime</th>\n      <th>owners</th>\n      <th>min_owners</th>\n      <th>max_owners</th>\n      <th>price</th>\n      <th>features</th>\n      <th>prediction</th>\n    </tr>\n  </thead>\n  <tbody>\n    <tr>\n      <th>0</th>\n      <td>12210</td>\n      <td>Grand Theft Auto IV</td>\n      <td>02/12/2008</td>\n      <td>0</td>\n      <td>Rockstar Games</td>\n      <td>0</td>\n      <td>Single-player;Multi-player;Partial Controller ...</td>\n      <td>0</td>\n      <td>35240</td>\n      <td>18926</td>\n      <td>1255</td>\n      <td>634</td>\n      <td>2000000-5000000</td>\n      <td>2000000</td>\n      <td>5000000</td>\n      <td>19.99</td>\n      <td>[0.0, 0.0, 0.0, 634.0, 2000000.0, 5000000.0, 1...</td>\n      <td>26</td>\n    </tr>\n    <tr>\n      <th>1</th>\n      <td>24960</td>\n      <td>Battlefield: Bad Company™ 2</td>\n      <td>02/03/2010</td>\n      <td>0</td>\n      <td>Electronic Arts</td>\n      <td>0</td>\n      <td>Single-player;Multi-player</td>\n      <td>0</td>\n      <td>23093</td>\n      <td>3877</td>\n      <td>1200</td>\n      <td>671</td>\n      <td>2000000-5000000</td>\n      <td>2000000</td>\n      <td>5000000</td>\n      <td>14.99</td>\n      <td>[0.0, 0.0, 0.0, 671.0, 2000000.0, 5000000.0, 1...</td>\n      <td>26</td>\n    </tr>\n    <tr>\n      <th>2</th>\n      <td>200260</td>\n      <td>Batman: Arkham City - Game of the Year Edition</td>\n      <td>07/09/2012</td>\n      <td>0</td>\n      <td>Warner Bros. Interactive Entertainment;Feral I...</td>\n      <td>0</td>\n      <td>Single-player;Steam Achievements;Steam Trading...</td>\n      <td>0</td>\n      <td>25995</td>\n      <td>1255</td>\n      <td>1554</td>\n      <td>618</td>\n      <td>2000000-5000000</td>\n      <td>2000000</td>\n      <td>5000000</td>\n      <td>14.99</td>\n      <td>[0.0, 0.0, 0.0, 618.0, 2000000.0, 5000000.0, 1...</td>\n      <td>26</td>\n    </tr>\n    <tr>\n      <th>3</th>\n      <td>212680</td>\n      <td>FTL: Faster Than Light</td>\n      <td>14/09/2012</td>\n      <td>0</td>\n      <td>Subset Games</td>\n      <td>0</td>\n      <td>Single-player;Steam Trading Cards</td>\n      <td>0</td>\n      <td>42641</td>\n      <td>1629</td>\n      <td>1111</td>\n      <td>633</td>\n      <td>2000000-5000000</td>\n      <td>2000000</td>\n      <td>5000000</td>\n      <td>6.99</td>\n      <td>[0.0, 0.0, 0.0, 633.0, 2000000.0, 5000000.0, 6...</td>\n      <td>26</td>\n    </tr>\n    <tr>\n      <th>4</th>\n      <td>213670</td>\n      <td>South Park™: The Stick of Truth™</td>\n      <td>06/03/2014</td>\n      <td>0</td>\n      <td>Ubisoft</td>\n      <td>0</td>\n      <td>Single-player;Steam Achievements;Full controll...</td>\n      <td>0</td>\n      <td>35896</td>\n      <td>911</td>\n      <td>1045</td>\n      <td>628</td>\n      <td>2000000-5000000</td>\n      <td>2000000</td>\n      <td>5000000</td>\n      <td>25.99</td>\n      <td>[0.0, 0.0, 0.0, 628.0, 2000000.0, 5000000.0, 2...</td>\n      <td>26</td>\n    </tr>\n  </tbody>\n</table>\n</div>"
     },
     "execution_count": 28,
     "metadata": {},
     "output_type": "execute_result"
    }
   ],
   "source": [
    "predictions = model.transform(final_df)\n",
    "predictions.filter(predictions.prediction == \"26\").toPandas().head(20)"
   ],
   "metadata": {
    "collapsed": false,
    "pycharm": {
     "name": "#%%\n"
    }
   }
  }
 ],
 "metadata": {
  "kernelspec": {
   "display_name": "Python 3 (ipykernel)",
   "language": "python",
   "name": "python3"
  },
  "language_info": {
   "codemirror_mode": {
    "name": "ipython",
    "version": 3
   },
   "file_extension": ".py",
   "mimetype": "text/x-python",
   "name": "python",
   "nbconvert_exporter": "python",
   "pygments_lexer": "ipython3",
   "version": "3.10.5"
  }
 },
 "nbformat": 4,
 "nbformat_minor": 1
}